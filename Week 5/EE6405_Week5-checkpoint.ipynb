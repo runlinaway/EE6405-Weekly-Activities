{
 "cells": [
  {
   "cell_type": "code",
   "execution_count": 6,
   "metadata": {},
   "outputs": [
    {
     "name": "stdout",
     "output_type": "stream",
     "text": [
      "Results for Prediction 1:\n",
      "ROUGE-1: 0.11363636363636363\n",
      "ROUGE-2: 0.06976744186046512\n",
      "ROUGE-L: 0.11363636363636363\n",
      "------------------------------\n",
      "Results for Prediction 2:\n",
      "ROUGE-1: 0.11235955056179774\n",
      "ROUGE-2: 0.06896551724137931\n",
      "ROUGE-L: 0.11235955056179774\n",
      "------------------------------\n",
      "Results for Prediction 3:\n",
      "ROUGE-1: 0.023809523809523808\n",
      "ROUGE-2: 0.0\n",
      "ROUGE-L: 0.023809523809523808\n",
      "------------------------------\n",
      "Results for Prediction 4:\n",
      "ROUGE-1: 0.0697674418604651\n",
      "ROUGE-2: 0.0\n",
      "ROUGE-L: 0.0697674418604651\n",
      "------------------------------\n"
     ]
    }
   ],
   "source": [
    "import evaluate\n",
    "\n",
    "# Load ROUGE metric\n",
    "rouge = evaluate.load('rouge')\n",
    "\n",
    "# Reference and predicted summaries\n",
    "references = [\"\"\"The IRA and coding quiz this week was brutal. \n",
    "I swear, they designed this just to watch us suffer. \n",
    "The questions felt like they were written in an ancient language, and even ChatGPT would tap out. \n",
    "I stared at my screen, questioning every life choice that led me here. \n",
    "My brain cells were fighting for survival, and by the end, I was just clicking randomly, \n",
    "hoping for divine intervention. If I pass this, it’s not skill—it’s sheer luck.\"\"\"]\n",
    "\n",
    "predictions = [\n",
    "    \"The IRA and coding quizzes were hard\",\n",
    "    \"The IRA and coding quizzes were very hard\",\n",
    "    \"I am suffering\",\n",
    "    \"I regret my life choices\"\n",
    "]\n",
    "\n",
    "# Compute ROUGE scores for each prediction\n",
    "results = []\n",
    "for prediction in predictions:\n",
    "    result = rouge.compute(predictions=[prediction], references=references)\n",
    "    results.append(result)\n",
    "\n",
    "# Print ROUGE scores for each prediction\n",
    "for i, result in enumerate(results):\n",
    "    print(f\"Results for Prediction {i+1}:\")\n",
    "    print(\"ROUGE-1:\", result[\"rouge1\"])\n",
    "    print(\"ROUGE-2:\", result[\"rouge2\"])\n",
    "    print(\"ROUGE-L:\", result[\"rougeL\"])\n",
    "    print(\"-\" * 30)\n",
    "\n"
   ]
  },
  {
   "cell_type": "code",
   "execution_count": null,
   "metadata": {},
   "outputs": [],
   "source": []
  }
 ],
 "metadata": {
  "kernelspec": {
   "display_name": "tensforflow_base",
   "language": "python",
   "name": "tensforflow_base"
  },
  "language_info": {
   "codemirror_mode": {
    "name": "ipython",
    "version": 3
   },
   "file_extension": ".py",
   "mimetype": "text/x-python",
   "name": "python",
   "nbconvert_exporter": "python",
   "pygments_lexer": "ipython3",
   "version": "3.10.11"
  }
 },
 "nbformat": 4,
 "nbformat_minor": 2
}
