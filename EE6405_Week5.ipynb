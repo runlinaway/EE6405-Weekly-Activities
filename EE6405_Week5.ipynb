{
 "cells": [
  {
   "cell_type": "code",
   "execution_count": null,
   "metadata": {},
   "outputs": [],
   "source": [
    "# Sample Code for ROUGE\n",
    "import evaluate\n",
    "rouge = evaluate.load('rouge')\n",
    "predictions = [\"Transformers Transformers are fast plus efficient\", \n",
    "               \"Good Morning\", \"I am waiting for new Transformers\"]\n",
    "references = [\n",
    "              [\"HuggingFace Transformers are fast efficient plus awesome\", \n",
    "               \"Transformers are awesome because they are fast to execute\"], \n",
    "              [\"Good Morning Transformers\", \"Morning Transformers\"], \n",
    "              [\"People are eagerly waiting for new Transformer models\", \n",
    "               \"People are very excited about new Transformers\"]\n",
    "\n",
    "]\n",
    "results = rouge.compute(predictions=predictions, references=references)\n",
    "print(results)"
   ]
  }
 ],
 "metadata": {
  "language_info": {
   "name": "python"
  }
 },
 "nbformat": 4,
 "nbformat_minor": 2
}
